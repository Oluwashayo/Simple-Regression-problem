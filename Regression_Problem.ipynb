{
  "nbformat": 4,
  "nbformat_minor": 0,
  "metadata": {
    "colab": {
      "provenance": []
    },
    "kernelspec": {
      "name": "python3",
      "display_name": "Python 3"
    },
    "language_info": {
      "name": "python"
    },
    "widgets": {
      "application/vnd.jupyter.widget-state+json": {
        "f03f80171e60466c83187ca1f20fadfa": {
          "model_module": "@jupyter-widgets/controls",
          "model_name": "HBoxModel",
          "model_module_version": "1.5.0",
          "state": {
            "_dom_classes": [],
            "_model_module": "@jupyter-widgets/controls",
            "_model_module_version": "1.5.0",
            "_model_name": "HBoxModel",
            "_view_count": null,
            "_view_module": "@jupyter-widgets/controls",
            "_view_module_version": "1.5.0",
            "_view_name": "HBoxView",
            "box_style": "",
            "children": [
              "IPY_MODEL_89e5f48b1663400ca1dddad8c8b8e06e",
              "IPY_MODEL_abedc24023b145118182503053bb37b3",
              "IPY_MODEL_5cc56b60a02e401b92ceae23f48ec607"
            ],
            "layout": "IPY_MODEL_90f80133f30e4bb29bbb25e466ba5d16"
          }
        },
        "89e5f48b1663400ca1dddad8c8b8e06e": {
          "model_module": "@jupyter-widgets/controls",
          "model_name": "HTMLModel",
          "model_module_version": "1.5.0",
          "state": {
            "_dom_classes": [],
            "_model_module": "@jupyter-widgets/controls",
            "_model_module_version": "1.5.0",
            "_model_name": "HTMLModel",
            "_view_count": null,
            "_view_module": "@jupyter-widgets/controls",
            "_view_module_version": "1.5.0",
            "_view_name": "HTMLView",
            "description": "",
            "description_tooltip": null,
            "layout": "IPY_MODEL_147817acf471494bbc58fafe86f871e2",
            "placeholder": "​",
            "style": "IPY_MODEL_ffd4a4da49e84386bf8fe9feff96a00d",
            "value": "regression_preds.csv: "
          }
        },
        "abedc24023b145118182503053bb37b3": {
          "model_module": "@jupyter-widgets/controls",
          "model_name": "FloatProgressModel",
          "model_module_version": "1.5.0",
          "state": {
            "_dom_classes": [],
            "_model_module": "@jupyter-widgets/controls",
            "_model_module_version": "1.5.0",
            "_model_name": "FloatProgressModel",
            "_view_count": null,
            "_view_module": "@jupyter-widgets/controls",
            "_view_module_version": "1.5.0",
            "_view_name": "ProgressView",
            "bar_style": "success",
            "description": "",
            "description_tooltip": null,
            "layout": "IPY_MODEL_542d624f651a488280028cf9f98cf9d7",
            "max": 1,
            "min": 0,
            "orientation": "horizontal",
            "style": "IPY_MODEL_02d0e40ac57040738d40f11ed6036bb4",
            "value": 1
          }
        },
        "5cc56b60a02e401b92ceae23f48ec607": {
          "model_module": "@jupyter-widgets/controls",
          "model_name": "HTMLModel",
          "model_module_version": "1.5.0",
          "state": {
            "_dom_classes": [],
            "_model_module": "@jupyter-widgets/controls",
            "_model_module_version": "1.5.0",
            "_model_name": "HTMLModel",
            "_view_count": null,
            "_view_module": "@jupyter-widgets/controls",
            "_view_module_version": "1.5.0",
            "_view_name": "HTMLView",
            "description": "",
            "description_tooltip": null,
            "layout": "IPY_MODEL_120e6759f817484e9adbeb0e0053d15e",
            "placeholder": "​",
            "style": "IPY_MODEL_0e03b03832a149af8f2855c1f878b833",
            "value": " 16.4k/? [00:00&lt;00:00, 228kB/s]"
          }
        },
        "90f80133f30e4bb29bbb25e466ba5d16": {
          "model_module": "@jupyter-widgets/base",
          "model_name": "LayoutModel",
          "model_module_version": "1.2.0",
          "state": {
            "_model_module": "@jupyter-widgets/base",
            "_model_module_version": "1.2.0",
            "_model_name": "LayoutModel",
            "_view_count": null,
            "_view_module": "@jupyter-widgets/base",
            "_view_module_version": "1.2.0",
            "_view_name": "LayoutView",
            "align_content": null,
            "align_items": null,
            "align_self": null,
            "border": null,
            "bottom": null,
            "display": null,
            "flex": null,
            "flex_flow": null,
            "grid_area": null,
            "grid_auto_columns": null,
            "grid_auto_flow": null,
            "grid_auto_rows": null,
            "grid_column": null,
            "grid_gap": null,
            "grid_row": null,
            "grid_template_areas": null,
            "grid_template_columns": null,
            "grid_template_rows": null,
            "height": null,
            "justify_content": null,
            "justify_items": null,
            "left": null,
            "margin": null,
            "max_height": null,
            "max_width": null,
            "min_height": null,
            "min_width": null,
            "object_fit": null,
            "object_position": null,
            "order": null,
            "overflow": null,
            "overflow_x": null,
            "overflow_y": null,
            "padding": null,
            "right": null,
            "top": null,
            "visibility": null,
            "width": null
          }
        },
        "147817acf471494bbc58fafe86f871e2": {
          "model_module": "@jupyter-widgets/base",
          "model_name": "LayoutModel",
          "model_module_version": "1.2.0",
          "state": {
            "_model_module": "@jupyter-widgets/base",
            "_model_module_version": "1.2.0",
            "_model_name": "LayoutModel",
            "_view_count": null,
            "_view_module": "@jupyter-widgets/base",
            "_view_module_version": "1.2.0",
            "_view_name": "LayoutView",
            "align_content": null,
            "align_items": null,
            "align_self": null,
            "border": null,
            "bottom": null,
            "display": null,
            "flex": null,
            "flex_flow": null,
            "grid_area": null,
            "grid_auto_columns": null,
            "grid_auto_flow": null,
            "grid_auto_rows": null,
            "grid_column": null,
            "grid_gap": null,
            "grid_row": null,
            "grid_template_areas": null,
            "grid_template_columns": null,
            "grid_template_rows": null,
            "height": null,
            "justify_content": null,
            "justify_items": null,
            "left": null,
            "margin": null,
            "max_height": null,
            "max_width": null,
            "min_height": null,
            "min_width": null,
            "object_fit": null,
            "object_position": null,
            "order": null,
            "overflow": null,
            "overflow_x": null,
            "overflow_y": null,
            "padding": null,
            "right": null,
            "top": null,
            "visibility": null,
            "width": null
          }
        },
        "ffd4a4da49e84386bf8fe9feff96a00d": {
          "model_module": "@jupyter-widgets/controls",
          "model_name": "DescriptionStyleModel",
          "model_module_version": "1.5.0",
          "state": {
            "_model_module": "@jupyter-widgets/controls",
            "_model_module_version": "1.5.0",
            "_model_name": "DescriptionStyleModel",
            "_view_count": null,
            "_view_module": "@jupyter-widgets/base",
            "_view_module_version": "1.2.0",
            "_view_name": "StyleView",
            "description_width": ""
          }
        },
        "542d624f651a488280028cf9f98cf9d7": {
          "model_module": "@jupyter-widgets/base",
          "model_name": "LayoutModel",
          "model_module_version": "1.2.0",
          "state": {
            "_model_module": "@jupyter-widgets/base",
            "_model_module_version": "1.2.0",
            "_model_name": "LayoutModel",
            "_view_count": null,
            "_view_module": "@jupyter-widgets/base",
            "_view_module_version": "1.2.0",
            "_view_name": "LayoutView",
            "align_content": null,
            "align_items": null,
            "align_self": null,
            "border": null,
            "bottom": null,
            "display": null,
            "flex": null,
            "flex_flow": null,
            "grid_area": null,
            "grid_auto_columns": null,
            "grid_auto_flow": null,
            "grid_auto_rows": null,
            "grid_column": null,
            "grid_gap": null,
            "grid_row": null,
            "grid_template_areas": null,
            "grid_template_columns": null,
            "grid_template_rows": null,
            "height": null,
            "justify_content": null,
            "justify_items": null,
            "left": null,
            "margin": null,
            "max_height": null,
            "max_width": null,
            "min_height": null,
            "min_width": null,
            "object_fit": null,
            "object_position": null,
            "order": null,
            "overflow": null,
            "overflow_x": null,
            "overflow_y": null,
            "padding": null,
            "right": null,
            "top": null,
            "visibility": null,
            "width": "20px"
          }
        },
        "02d0e40ac57040738d40f11ed6036bb4": {
          "model_module": "@jupyter-widgets/controls",
          "model_name": "ProgressStyleModel",
          "model_module_version": "1.5.0",
          "state": {
            "_model_module": "@jupyter-widgets/controls",
            "_model_module_version": "1.5.0",
            "_model_name": "ProgressStyleModel",
            "_view_count": null,
            "_view_module": "@jupyter-widgets/base",
            "_view_module_version": "1.2.0",
            "_view_name": "StyleView",
            "bar_color": null,
            "description_width": ""
          }
        },
        "120e6759f817484e9adbeb0e0053d15e": {
          "model_module": "@jupyter-widgets/base",
          "model_name": "LayoutModel",
          "model_module_version": "1.2.0",
          "state": {
            "_model_module": "@jupyter-widgets/base",
            "_model_module_version": "1.2.0",
            "_model_name": "LayoutModel",
            "_view_count": null,
            "_view_module": "@jupyter-widgets/base",
            "_view_module_version": "1.2.0",
            "_view_name": "LayoutView",
            "align_content": null,
            "align_items": null,
            "align_self": null,
            "border": null,
            "bottom": null,
            "display": null,
            "flex": null,
            "flex_flow": null,
            "grid_area": null,
            "grid_auto_columns": null,
            "grid_auto_flow": null,
            "grid_auto_rows": null,
            "grid_column": null,
            "grid_gap": null,
            "grid_row": null,
            "grid_template_areas": null,
            "grid_template_columns": null,
            "grid_template_rows": null,
            "height": null,
            "justify_content": null,
            "justify_items": null,
            "left": null,
            "margin": null,
            "max_height": null,
            "max_width": null,
            "min_height": null,
            "min_width": null,
            "object_fit": null,
            "object_position": null,
            "order": null,
            "overflow": null,
            "overflow_x": null,
            "overflow_y": null,
            "padding": null,
            "right": null,
            "top": null,
            "visibility": null,
            "width": null
          }
        },
        "0e03b03832a149af8f2855c1f878b833": {
          "model_module": "@jupyter-widgets/controls",
          "model_name": "DescriptionStyleModel",
          "model_module_version": "1.5.0",
          "state": {
            "_model_module": "@jupyter-widgets/controls",
            "_model_module_version": "1.5.0",
            "_model_name": "DescriptionStyleModel",
            "_view_count": null,
            "_view_module": "@jupyter-widgets/base",
            "_view_module_version": "1.2.0",
            "_view_name": "StyleView",
            "description_width": ""
          }
        },
        "be4039d29446472cae13441638692ed6": {
          "model_module": "@jupyter-widgets/controls",
          "model_name": "HBoxModel",
          "model_module_version": "1.5.0",
          "state": {
            "_dom_classes": [],
            "_model_module": "@jupyter-widgets/controls",
            "_model_module_version": "1.5.0",
            "_model_name": "HBoxModel",
            "_view_count": null,
            "_view_module": "@jupyter-widgets/controls",
            "_view_module_version": "1.5.0",
            "_view_name": "HBoxView",
            "box_style": "",
            "children": [
              "IPY_MODEL_543f9b05feb34bb6b1b8bc088d7302e2",
              "IPY_MODEL_d78ae9768b294fe2a1434a47e8f27013",
              "IPY_MODEL_88653f90e7884fb7a889ee27e9e40fe7"
            ],
            "layout": "IPY_MODEL_3f438b29b69a498380d18b29bfe38d6e"
          }
        },
        "543f9b05feb34bb6b1b8bc088d7302e2": {
          "model_module": "@jupyter-widgets/controls",
          "model_name": "HTMLModel",
          "model_module_version": "1.5.0",
          "state": {
            "_dom_classes": [],
            "_model_module": "@jupyter-widgets/controls",
            "_model_module_version": "1.5.0",
            "_model_name": "HTMLModel",
            "_view_count": null,
            "_view_module": "@jupyter-widgets/controls",
            "_view_module_version": "1.5.0",
            "_view_name": "HTMLView",
            "description": "",
            "description_tooltip": null,
            "layout": "IPY_MODEL_192e8aa03fa645a78399ce89a0159f2e",
            "placeholder": "​",
            "style": "IPY_MODEL_992b38176ec04731be3bd27a6ddfdc41",
            "value": "Generating train split: 100%"
          }
        },
        "d78ae9768b294fe2a1434a47e8f27013": {
          "model_module": "@jupyter-widgets/controls",
          "model_name": "FloatProgressModel",
          "model_module_version": "1.5.0",
          "state": {
            "_dom_classes": [],
            "_model_module": "@jupyter-widgets/controls",
            "_model_module_version": "1.5.0",
            "_model_name": "FloatProgressModel",
            "_view_count": null,
            "_view_module": "@jupyter-widgets/controls",
            "_view_module_version": "1.5.0",
            "_view_name": "ProgressView",
            "bar_style": "success",
            "description": "",
            "description_tooltip": null,
            "layout": "IPY_MODEL_e7ee6c8c32ac4a489d084ef1a7115a52",
            "max": 890,
            "min": 0,
            "orientation": "horizontal",
            "style": "IPY_MODEL_9231bfc57ae54d858ef63926c1be1383",
            "value": 890
          }
        },
        "88653f90e7884fb7a889ee27e9e40fe7": {
          "model_module": "@jupyter-widgets/controls",
          "model_name": "HTMLModel",
          "model_module_version": "1.5.0",
          "state": {
            "_dom_classes": [],
            "_model_module": "@jupyter-widgets/controls",
            "_model_module_version": "1.5.0",
            "_model_name": "HTMLModel",
            "_view_count": null,
            "_view_module": "@jupyter-widgets/controls",
            "_view_module_version": "1.5.0",
            "_view_name": "HTMLView",
            "description": "",
            "description_tooltip": null,
            "layout": "IPY_MODEL_4db2888e1249412994d12f4c6ba41d93",
            "placeholder": "​",
            "style": "IPY_MODEL_26599aae0cb9439597e4fd029bab3934",
            "value": " 890/890 [00:00&lt;00:00, 6189.04 examples/s]"
          }
        },
        "3f438b29b69a498380d18b29bfe38d6e": {
          "model_module": "@jupyter-widgets/base",
          "model_name": "LayoutModel",
          "model_module_version": "1.2.0",
          "state": {
            "_model_module": "@jupyter-widgets/base",
            "_model_module_version": "1.2.0",
            "_model_name": "LayoutModel",
            "_view_count": null,
            "_view_module": "@jupyter-widgets/base",
            "_view_module_version": "1.2.0",
            "_view_name": "LayoutView",
            "align_content": null,
            "align_items": null,
            "align_self": null,
            "border": null,
            "bottom": null,
            "display": null,
            "flex": null,
            "flex_flow": null,
            "grid_area": null,
            "grid_auto_columns": null,
            "grid_auto_flow": null,
            "grid_auto_rows": null,
            "grid_column": null,
            "grid_gap": null,
            "grid_row": null,
            "grid_template_areas": null,
            "grid_template_columns": null,
            "grid_template_rows": null,
            "height": null,
            "justify_content": null,
            "justify_items": null,
            "left": null,
            "margin": null,
            "max_height": null,
            "max_width": null,
            "min_height": null,
            "min_width": null,
            "object_fit": null,
            "object_position": null,
            "order": null,
            "overflow": null,
            "overflow_x": null,
            "overflow_y": null,
            "padding": null,
            "right": null,
            "top": null,
            "visibility": null,
            "width": null
          }
        },
        "192e8aa03fa645a78399ce89a0159f2e": {
          "model_module": "@jupyter-widgets/base",
          "model_name": "LayoutModel",
          "model_module_version": "1.2.0",
          "state": {
            "_model_module": "@jupyter-widgets/base",
            "_model_module_version": "1.2.0",
            "_model_name": "LayoutModel",
            "_view_count": null,
            "_view_module": "@jupyter-widgets/base",
            "_view_module_version": "1.2.0",
            "_view_name": "LayoutView",
            "align_content": null,
            "align_items": null,
            "align_self": null,
            "border": null,
            "bottom": null,
            "display": null,
            "flex": null,
            "flex_flow": null,
            "grid_area": null,
            "grid_auto_columns": null,
            "grid_auto_flow": null,
            "grid_auto_rows": null,
            "grid_column": null,
            "grid_gap": null,
            "grid_row": null,
            "grid_template_areas": null,
            "grid_template_columns": null,
            "grid_template_rows": null,
            "height": null,
            "justify_content": null,
            "justify_items": null,
            "left": null,
            "margin": null,
            "max_height": null,
            "max_width": null,
            "min_height": null,
            "min_width": null,
            "object_fit": null,
            "object_position": null,
            "order": null,
            "overflow": null,
            "overflow_x": null,
            "overflow_y": null,
            "padding": null,
            "right": null,
            "top": null,
            "visibility": null,
            "width": null
          }
        },
        "992b38176ec04731be3bd27a6ddfdc41": {
          "model_module": "@jupyter-widgets/controls",
          "model_name": "DescriptionStyleModel",
          "model_module_version": "1.5.0",
          "state": {
            "_model_module": "@jupyter-widgets/controls",
            "_model_module_version": "1.5.0",
            "_model_name": "DescriptionStyleModel",
            "_view_count": null,
            "_view_module": "@jupyter-widgets/base",
            "_view_module_version": "1.2.0",
            "_view_name": "StyleView",
            "description_width": ""
          }
        },
        "e7ee6c8c32ac4a489d084ef1a7115a52": {
          "model_module": "@jupyter-widgets/base",
          "model_name": "LayoutModel",
          "model_module_version": "1.2.0",
          "state": {
            "_model_module": "@jupyter-widgets/base",
            "_model_module_version": "1.2.0",
            "_model_name": "LayoutModel",
            "_view_count": null,
            "_view_module": "@jupyter-widgets/base",
            "_view_module_version": "1.2.0",
            "_view_name": "LayoutView",
            "align_content": null,
            "align_items": null,
            "align_self": null,
            "border": null,
            "bottom": null,
            "display": null,
            "flex": null,
            "flex_flow": null,
            "grid_area": null,
            "grid_auto_columns": null,
            "grid_auto_flow": null,
            "grid_auto_rows": null,
            "grid_column": null,
            "grid_gap": null,
            "grid_row": null,
            "grid_template_areas": null,
            "grid_template_columns": null,
            "grid_template_rows": null,
            "height": null,
            "justify_content": null,
            "justify_items": null,
            "left": null,
            "margin": null,
            "max_height": null,
            "max_width": null,
            "min_height": null,
            "min_width": null,
            "object_fit": null,
            "object_position": null,
            "order": null,
            "overflow": null,
            "overflow_x": null,
            "overflow_y": null,
            "padding": null,
            "right": null,
            "top": null,
            "visibility": null,
            "width": null
          }
        },
        "9231bfc57ae54d858ef63926c1be1383": {
          "model_module": "@jupyter-widgets/controls",
          "model_name": "ProgressStyleModel",
          "model_module_version": "1.5.0",
          "state": {
            "_model_module": "@jupyter-widgets/controls",
            "_model_module_version": "1.5.0",
            "_model_name": "ProgressStyleModel",
            "_view_count": null,
            "_view_module": "@jupyter-widgets/base",
            "_view_module_version": "1.2.0",
            "_view_name": "StyleView",
            "bar_color": null,
            "description_width": ""
          }
        },
        "4db2888e1249412994d12f4c6ba41d93": {
          "model_module": "@jupyter-widgets/base",
          "model_name": "LayoutModel",
          "model_module_version": "1.2.0",
          "state": {
            "_model_module": "@jupyter-widgets/base",
            "_model_module_version": "1.2.0",
            "_model_name": "LayoutModel",
            "_view_count": null,
            "_view_module": "@jupyter-widgets/base",
            "_view_module_version": "1.2.0",
            "_view_name": "LayoutView",
            "align_content": null,
            "align_items": null,
            "align_self": null,
            "border": null,
            "bottom": null,
            "display": null,
            "flex": null,
            "flex_flow": null,
            "grid_area": null,
            "grid_auto_columns": null,
            "grid_auto_flow": null,
            "grid_auto_rows": null,
            "grid_column": null,
            "grid_gap": null,
            "grid_row": null,
            "grid_template_areas": null,
            "grid_template_columns": null,
            "grid_template_rows": null,
            "height": null,
            "justify_content": null,
            "justify_items": null,
            "left": null,
            "margin": null,
            "max_height": null,
            "max_width": null,
            "min_height": null,
            "min_width": null,
            "object_fit": null,
            "object_position": null,
            "order": null,
            "overflow": null,
            "overflow_x": null,
            "overflow_y": null,
            "padding": null,
            "right": null,
            "top": null,
            "visibility": null,
            "width": null
          }
        },
        "26599aae0cb9439597e4fd029bab3934": {
          "model_module": "@jupyter-widgets/controls",
          "model_name": "DescriptionStyleModel",
          "model_module_version": "1.5.0",
          "state": {
            "_model_module": "@jupyter-widgets/controls",
            "_model_module_version": "1.5.0",
            "_model_name": "DescriptionStyleModel",
            "_view_count": null,
            "_view_module": "@jupyter-widgets/base",
            "_view_module_version": "1.2.0",
            "_view_name": "StyleView",
            "description_width": ""
          }
        }
      }
    }
  },
  "cells": [
    {
      "cell_type": "code",
      "execution_count": null,
      "metadata": {
        "colab": {
          "base_uri": "https://localhost:8080/",
          "height": 327,
          "referenced_widgets": [
            "f03f80171e60466c83187ca1f20fadfa",
            "89e5f48b1663400ca1dddad8c8b8e06e",
            "abedc24023b145118182503053bb37b3",
            "5cc56b60a02e401b92ceae23f48ec607",
            "90f80133f30e4bb29bbb25e466ba5d16",
            "147817acf471494bbc58fafe86f871e2",
            "ffd4a4da49e84386bf8fe9feff96a00d",
            "542d624f651a488280028cf9f98cf9d7",
            "02d0e40ac57040738d40f11ed6036bb4",
            "120e6759f817484e9adbeb0e0053d15e",
            "0e03b03832a149af8f2855c1f878b833",
            "be4039d29446472cae13441638692ed6",
            "543f9b05feb34bb6b1b8bc088d7302e2",
            "d78ae9768b294fe2a1434a47e8f27013",
            "88653f90e7884fb7a889ee27e9e40fe7",
            "3f438b29b69a498380d18b29bfe38d6e",
            "192e8aa03fa645a78399ce89a0159f2e",
            "992b38176ec04731be3bd27a6ddfdc41",
            "e7ee6c8c32ac4a489d084ef1a7115a52",
            "9231bfc57ae54d858ef63926c1be1383",
            "4db2888e1249412994d12f4c6ba41d93",
            "26599aae0cb9439597e4fd029bab3934"
          ]
        },
        "id": "mxqwQhACG8rF",
        "outputId": "7e55a899-b10a-4173-8e34-bbde76d5a618"
      },
      "outputs": [
        {
          "output_type": "stream",
          "name": "stderr",
          "text": [
            "/usr/local/lib/python3.12/dist-packages/huggingface_hub/utils/_auth.py:94: UserWarning: \n",
            "The secret `HF_TOKEN` does not exist in your Colab secrets.\n",
            "To authenticate with the Hugging Face Hub, create a token in your settings tab (https://huggingface.co/settings/tokens), set it as secret in your Google Colab and restart your session.\n",
            "You will be able to reuse this secret in all of your notebooks.\n",
            "Please note that authentication is recommended but still optional to access public models or datasets.\n",
            "  warnings.warn(\n"
          ]
        },
        {
          "output_type": "display_data",
          "data": {
            "text/plain": [
              "regression_preds.csv: 0.00B [00:00, ?B/s]"
            ],
            "application/vnd.jupyter.widget-view+json": {
              "version_major": 2,
              "version_minor": 0,
              "model_id": "f03f80171e60466c83187ca1f20fadfa"
            }
          },
          "metadata": {}
        },
        {
          "output_type": "display_data",
          "data": {
            "text/plain": [
              "Generating train split:   0%|          | 0/890 [00:00<?, ? examples/s]"
            ],
            "application/vnd.jupyter.widget-view+json": {
              "version_major": 2,
              "version_minor": 0,
              "model_id": "be4039d29446472cae13441638692ed6"
            }
          },
          "metadata": {}
        },
        {
          "output_type": "stream",
          "name": "stdout",
          "text": [
            "Dataset preview:\n",
            "           0\n",
            "0  10.376726\n",
            "1   2.629205\n",
            "2   2.227326\n",
            "3  10.246503\n",
            "4  13.391027\n"
          ]
        }
      ],
      "source": [
        "import numpy as np\n",
        "import pandas as pd\n",
        "import matplotlib.pyplot as plt\n",
        "from sklearn.datasets import make_regression\n",
        "from sklearn.model_selection import train_test_split, cross_val_score\n",
        "from sklearn.preprocessing import PolynomialFeatures, StandardScaler\n",
        "from sklearn.linear_model import LinearRegression, Ridge\n",
        "from sklearn.metrics import mean_squared_error\n",
        "from datasets import load_dataset\n",
        "from tensorflow.keras.models import Sequential\n",
        "from tensorflow.keras.layers import Dense\n",
        "\n",
        "# Load dataset from HuggingFace\n",
        "ds = load_dataset(\"ketan0/test_regression_preds\")\n",
        "data = pd.DataFrame(ds['train'])\n",
        "\n",
        "print(\"Dataset preview:\")\n",
        "print(data.head())\n"
      ]
    },
    {
      "cell_type": "code",
      "source": [
        "lag = 3\n",
        "vals = data['0'].values\n",
        "\n",
        "X, y = [], []\n",
        "for i in range(lag, len(vals)):\n",
        "    X.append(vals[i - lag:i])\n",
        "    y.append(vals[i])\n",
        "\n",
        "X = np.array(X)\n",
        "y = np.array(y)\n",
        "\n",
        "# Split into training and validation sets\n",
        "X_train, X_val, y_train, y_val = train_test_split(\n",
        "    X, y, test_size=0.2, random_state=42, shuffle=False\n",
        ")\n",
        "\n",
        "print(f\"Training samples: {len(X_train)}, Validation samples: {len(X_val)}\")\n"
      ],
      "metadata": {
        "colab": {
          "base_uri": "https://localhost:8080/"
        },
        "id": "q1PEaGtUHMB4",
        "outputId": "7c7b2f86-8ed2-40ed-8a5d-2bfa6b277f07"
      },
      "execution_count": null,
      "outputs": [
        {
          "output_type": "stream",
          "name": "stdout",
          "text": [
            "Training samples: 709, Validation samples: 178\n"
          ]
        }
      ]
    },
    {
      "cell_type": "code",
      "source": [
        "# This code block performs Linear, Ridge, Polynomial regressions\n",
        "\n",
        "# Standardize features\n",
        "scaler = StandardScaler()\n",
        "X_train_scaled = scaler.fit_transform(X_train)\n",
        "X_val_scaled = scaler.transform(X_val)\n",
        "\n",
        "models = {}\n",
        "train_losses = {}\n",
        "val_losses = {}\n",
        "\n",
        "# The Linear Regression code block\n",
        "lr = LinearRegression()\n",
        "lr.fit(X_train_scaled, y_train)\n",
        "models['Linear'] = lr\n",
        "train_losses['Linear'] = mean_squared_error(y_train, lr.predict(X_train_scaled))\n",
        "val_losses['Linear'] = mean_squared_error(y_val, lr.predict(X_val_scaled))\n",
        "\n",
        "# The Ridge Regression code block\n",
        "ridge = Ridge(alpha=1.0)\n",
        "ridge.fit(X_train_scaled, y_train)\n",
        "models['Ridge'] = ridge\n",
        "train_losses['Ridge'] = mean_squared_error(y_train, ridge.predict(X_train_scaled))\n",
        "val_losses['Ridge'] = mean_squared_error(y_val, ridge.predict(X_val_scaled))\n",
        "\n",
        "# The Polynomial Regression (deg 2, 4, 10) code block\n",
        "for deg in [2, 4, 10]:\n",
        "    poly = PolynomialFeatures(degree=deg)\n",
        "    X_train_poly = poly.fit_transform(X_train_scaled)\n",
        "    X_val_poly = poly.transform(X_val_scaled)\n",
        "\n",
        "    poly_lr = LinearRegression()\n",
        "    poly_lr.fit(X_train_poly, y_train)\n",
        "\n",
        "    models[f'Poly {deg}'] = poly_lr\n",
        "    train_losses[f'Poly {deg}'] = mean_squared_error(y_train, poly_lr.predict(X_train_poly))\n",
        "    val_losses[f'Poly {deg}'] = mean_squared_error(y_val, poly_lr.predict(X_val_poly))\n",
        "\n",
        "print(\"Training complete for all models.\")\n"
      ],
      "metadata": {
        "colab": {
          "base_uri": "https://localhost:8080/"
        },
        "id": "zOHlX41-HP62",
        "outputId": "19556ccb-5c9b-463a-e7f5-3cbb93a466f7"
      },
      "execution_count": null,
      "outputs": [
        {
          "output_type": "stream",
          "name": "stdout",
          "text": [
            "Training complete for all models.\n"
          ]
        }
      ]
    },
    {
      "cell_type": "code",
      "source": [
        "# This code block plots the grouped bars for training vs validation loss\n",
        "model_names = list(models.keys())\n",
        "train_loss_vals = [train_losses[m] for m in model_names]\n",
        "val_loss_vals = [val_losses[m] for m in model_names]\n",
        "\n",
        "x = np.arange(len(model_names))\n",
        "width = 0.35\n",
        "\n",
        "plt.figure(figsize=(10,6))\n",
        "plt.bar(x - width/2, train_loss_vals, width=width, label='Train Loss')\n",
        "plt.bar(x + width/2, val_loss_vals, width=width, label='Validation Loss')\n",
        "plt.xticks(x, model_names, rotation=45)\n",
        "plt.ylabel('MSE')\n",
        "plt.title('Model Training vs Validation Loss')\n",
        "plt.legend()\n",
        "plt.tight_layout()\n",
        "plt.show()\n"
      ],
      "metadata": {
        "colab": {
          "base_uri": "https://localhost:8080/",
          "height": 607
        },
        "id": "mddQUdxqHb6E",
        "outputId": "945a79e6-968d-459b-92c0-c1cb03bcf054"
      },
      "execution_count": null,
      "outputs": [
        {
          "output_type": "display_data",
          "data": {
            "text/plain": [
              "<Figure size 1000x600 with 1 Axes>"
            ],
            "image/png": "[encoded data removed]"
          },
          "metadata": {}
        }
      ]
    },
    {
      "cell_type": "code",
      "source": [
        "# perfoms Cross-validation on best model\n",
        "best_model_name = min(val_losses, key=val_losses.get)\n",
        "best_model = models[best_model_name]\n",
        "print(f\"Best model: {best_model_name}\")\n",
        "\n",
        "# Prepare features accordingly\n",
        "if \"Poly\" in best_model_name:\n",
        "    degree = int(best_model_name.split()[-1])\n",
        "    poly = PolynomialFeatures(degree=degree)\n",
        "    X_scaled_poly = poly.fit_transform(scaler.fit_transform(X))\n",
        "    model_for_cv = LinearRegression()\n",
        "    scores = cross_val_score(model_for_cv, X_scaled_poly, y, scoring='neg_mean_squared_error', cv=5)\n",
        "else:\n",
        "    X_scaled = scaler.fit_transform(X)\n",
        "    model_for_cv = best_model\n",
        "    scores = cross_val_score(model_for_cv, X_scaled, y, scoring='neg_mean_squared_error', cv=5)\n",
        "\n",
        "print(f\"Cross-validation MSE: {(-scores).mean():.4f} ± {(-scores).std():.4f}\")\n"
      ],
      "metadata": {
        "colab": {
          "base_uri": "https://localhost:8080/"
        },
        "id": "brTd6WKSHlpD",
        "outputId": "5622a553-5a9a-4f2e-826e-e7d9207a10f0"
      },
      "execution_count": null,
      "outputs": [
        {
          "output_type": "stream",
          "name": "stdout",
          "text": [
            "Best model: Ridge\n",
            "Cross-validation MSE: 32.6472 ± 1.8381\n"
          ]
        }
      ]
    },
    {
      "cell_type": "code",
      "source": [
        "# Using Feed forward Neural Network (FNN)\n",
        "nn_model = Sequential([\n",
        "    Dense(64, activation='relu', input_shape=(X_train.shape[1],)),\n",
        "    Dense(32, activation='relu'),\n",
        "    Dense(1)\n",
        "])\n",
        "\n",
        "nn_model.compile(optimizer='adam', loss='mse')\n",
        "\n",
        "history = nn_model.fit(\n",
        "    X_train_scaled, y_train,\n",
        "    validation_data=(X_val_scaled, y_val),\n",
        "    epochs=100, batch_size=16, verbose=0\n",
        ")\n",
        "\n",
        "# Evaluate NN\n",
        "nn_train_mse = nn_model.evaluate(X_train_scaled, y_train, verbose=0)\n",
        "nn_val_mse = nn_model.evaluate(X_val_scaled, y_val, verbose=0)\n",
        "\n",
        "print(f\"Neural Network Train MSE: {nn_train_mse:.4f}\")\n",
        "print(f\"Neural Network Validation MSE: {nn_val_mse:.4f}\")\n"
      ],
      "metadata": {
        "colab": {
          "base_uri": "https://localhost:8080/"
        },
        "id": "QNM6NSF3Hsk8",
        "outputId": "cebe990d-7257-443b-b1f3-f3259e4bc6cb"
      },
      "execution_count": null,
      "outputs": [
        {
          "output_type": "stream",
          "name": "stderr",
          "text": [
            "/usr/local/lib/python3.12/dist-packages/keras/src/layers/core/dense.py:93: UserWarning: Do not pass an `input_shape`/`input_dim` argument to a layer. When using Sequential models, prefer using an `Input(shape)` object as the first layer in the model instead.\n",
            "  super().__init__(activity_regularizer=activity_regularizer, **kwargs)\n"
          ]
        },
        {
          "output_type": "stream",
          "name": "stdout",
          "text": [
            "Neural Network Train MSE: 31.5325\n",
            "Neural Network Validation MSE: 33.1742\n"
          ]
        }
      ]
    },
    {
      "cell_type": "code",
      "source": [
        "# Compare all models visually (including NN, fixed version)\n",
        "\n",
        "# Create combined loss records\n",
        "model_names_full = list(models.keys()) + [\"NeuralNet\"]\n",
        "train_loss_full = [train_losses[m] for m in models.keys()] + [nn_train_mse]\n",
        "val_loss_full = [val_losses[m] for m in models.keys()] + [nn_val_mse]\n",
        "\n",
        "# Plot\n",
        "x = np.arange(len(model_names_full))\n",
        "width = 0.35\n",
        "\n",
        "plt.figure(figsize=(10,6))\n",
        "plt.bar(x - width/2, train_loss_full, width=width, label='Training Loss')\n",
        "plt.bar(x + width/2, val_loss_full, width=width, label='Validation Loss')\n",
        "plt.xticks(x, model_names_full, rotation=45)\n",
        "plt.ylabel('Mean Squared Error (MSE)')\n",
        "plt.title('All Models: Training vs Validation Loss')\n",
        "plt.legend()\n",
        "plt.tight_layout()\n",
        "plt.show()"
      ],
      "metadata": {
        "colab": {
          "base_uri": "https://localhost:8080/",
          "height": 607
        },
        "id": "y82i5mXhIHax",
        "outputId": "5f4dbb8a-f71e-4afc-b8ac-dbf29fe4dba5"
      },
      "execution_count": null,
      "outputs": [
        {
          "output_type": "display_data",
          "data": {
            "text/plain": [
              "<Figure size 1000x600 with 1 Axes>"
            ],
            "image/png": "[encoded data removed]"
          },
          "metadata": {}
        }
      ]
    },
    {
      "cell_type": "code",
      "source": [
        "# Conclusion Summary of the training\n",
        "print(\"\\n=== Model Performance Summary ===\")\n",
        "\n",
        "# Combine all models into one unified dictionary\n",
        "all_models = {name: (train_losses[name], val_losses[name]) for name in models.keys()}\n",
        "all_models[\"NeuralNet\"] = (nn_train_mse, nn_val_mse)\n",
        "\n",
        "# Print summary neatly\n",
        "for m, (train_mse, val_mse) in all_models.items():\n",
        "    print(f\"{m:25s} | Train MSE: {train_mse:.6f} | Val MSE: {val_mse:.6f}\")\n",
        "\n",
        "# Determine best model (lowest validation loss)\n",
        "best_model_name = min(all_models, key=lambda x: all_models[x][1])\n",
        "\n",
        "print(\"\\n=== Conclusion ===\")\n",
        "print(f\"Best classical model (lowest val loss): {best_model_name}\")\n",
        "print(\"The Neural Network may perform similarly or slightly better if enough epochs and tuning are applied.\\n\"\n",
        "      \"If Ridge or Polynomial(2) outperforms Linear, it suggests the data has mild non-linearity.\\n\"\n",
        "      \"Surprisingly low MSEs may indicate an easy-to-predict or smooth series, not overfitting.\")"
      ],
      "metadata": {
        "colab": {
          "base_uri": "https://localhost:8080/"
        },
        "id": "hAZTBtOeIvP8",
        "outputId": "16e125d4-e758-4617-a3d8-701a18977dfa"
      },
      "execution_count": null,
      "outputs": [
        {
          "output_type": "stream",
          "name": "stdout",
          "text": [
            "\n",
            "=== Model Performance Summary ===\n",
            "Linear                    | Train MSE: 32.488162 | Val MSE: 32.538825\n",
            "Ridge                     | Train MSE: 32.488163 | Val MSE: 32.538599\n",
            "Poly 2                    | Train MSE: 32.273056 | Val MSE: 32.802706\n",
            "Poly 4                    | Train MSE: 31.532866 | Val MSE: 33.551751\n",
            "Poly 10                   | Train MSE: 20.816933 | Val MSE: 95.714981\n",
            "NeuralNet                 | Train MSE: 31.532511 | Val MSE: 33.174206\n",
            "\n",
            "=== Conclusion ===\n",
            "Best classical model (lowest val loss): Ridge\n",
            "The Neural Network may perform similarly or slightly better if enough epochs and tuning are applied.\n",
            "If Ridge or Polynomial(2) outperforms Linear, it suggests the data has mild non-linearity.\n",
            "Surprisingly low MSEs may indicate an easy-to-predict or smooth series, not overfitting.\n"
          ]
        }
      ]
    }
  ]
}